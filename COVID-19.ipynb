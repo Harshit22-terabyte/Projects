{
 "cells": [
  {
   "cell_type": "code",
   "execution_count": 7,
   "metadata": {},
   "outputs": [],
   "source": [
    "from selenium import webdriver\n",
    "driver= webdriver.Chrome(executable_path ='/Users/harshmis/Downloads/chromedriver_win32/chromedriver')\n",
    "driver.maximize_window()\n",
    "driver.get(\"https://www.kaggle.com/sudalairajkumar/covid19-in-india#covid_19_india.csv\")\n",
    "csv=driver.find_element_by_class_name(\"button__anchor-wrapper\")\n",
    "csv.click()\n",
    "driver.implicitly_wait(10)\n",
    "GoggleSign=driver.find_element_by_class_name(\"sc-jGxEUC\")\n",
    "GoggleSign.click()\n",
    "Username=driver.find_element_by_class_name(\"whsOnd\")\n",
    "Username.send_keys(\"*******\")\n",
    "allow=driver.find_element_by_class_name(\"RveJvd\")\n",
    "allow.click()\n",
    "Password=driver.find_element_by_name(\"password\")\n",
    "Password.send_keys(\"******\")\n",
    "enter=driver.find_element_by_id(\"passwordNext\")\n",
    "enter.click()\n",
    "csv=driver.find_element_by_class_name(\"button__anchor-wrapper\")\n",
    "csv.click()\n"
   ]
  },
  {
   "cell_type": "code",
   "execution_count": 8,
   "metadata": {},
   "outputs": [
    {
     "name": "stdout",
     "output_type": "stream",
     "text": [
      "File Name                                             Modified             Size\n",
      "AgeGroupDetails.csv                            2020-04-22 14:42:32          224\n",
      "HospitalBedsIndia.csv                          2020-04-22 14:42:32         2266\n",
      "ICMRTestingDetails.csv                         2020-04-22 14:42:32         1259\n",
      "ICMRTestingLabs.csv                            2020-04-22 14:42:32        55732\n",
      "IndividualDetails.csv                          2020-04-22 14:42:32      1260877\n",
      "StatewiseTestingDetails.csv                    2020-04-22 14:42:32         7078\n",
      "covid_19_india.csv                             2020-04-22 14:42:32        54205\n",
      "population_india_census2011.csv                2020-04-22 14:42:32         3663\n",
      "Extracting csv file on the path = /Users/harshmis/Data science \n",
      "ZIP Extract complete\n",
      "NOTE:- Zip file removed! so that next time its downloaded fresh\n"
     ]
    }
   ],
   "source": [
    "import time\n",
    "from zipfile import ZipFile as zp\n",
    "import os,sys,stat\n",
    "time.sleep(15)\n",
    "obj=zp(\"/Users/harshmis/Downloads/covid19-in-india.zip\",'r')\n",
    "obj.printdir()\n",
    "os.chmod(\"/Users/harshmis/Downloads/covid19-in-india.zip\",stat.S_IRWXU)\n",
    "os.chmod(\"/Users/harshmis/Data science/covid_19_india.csv\",stat.S_IRWXU)\n",
    "print(\"Extracting csv file on the path = /Users/harshmis/Data science \")\n",
    "obj.extract(member='covid_19_india.csv',path='/Users/harshmis/Data science')\n",
    "print(\"ZIP Extract complete\")\n",
    "obj.close()\n",
    "del(obj)\n",
    "os.remove(\"/Users/harshmis/Downloads/covid19-in-india.zip\")#delete zip file so that next time its downloaded fresh\n",
    "print(\"NOTE:- Zip file removed! so that next time its downloaded fresh\")"
   ]
  },
  {
   "cell_type": "raw",
   "metadata": {},
   "source": [
    "# Documentation on ZIP module\n",
    "----------------------------------------------------------------------------------------\n",
    "https://www.geeksforgeeks.org/working-zip-files-python/\n",
    "https://docs.python.org/2/library/zipfile.html\n",
    "----------------------------------------------------------------------------------------"
   ]
  },
  {
   "cell_type": "code",
   "execution_count": 9,
   "metadata": {},
   "outputs": [
    {
     "name": "stdout",
     "output_type": "stream",
     "text": [
      "    Sno      Date     Time State/UnionTerritory ConfirmedIndianNational  \\\n",
      "0     1  30/01/20  6:00 PM               Kerala                       1   \n",
      "1     2  31/01/20  6:00 PM               Kerala                       1   \n",
      "2     3  01/02/20  6:00 PM               Kerala                       2   \n",
      "3     4  02/02/20  6:00 PM               Kerala                       3   \n",
      "4     5  03/02/20  6:00 PM               Kerala                       3   \n",
      "..  ...       ...      ...                  ...                     ...   \n",
      "95   96  10/03/20  6:00 PM            Telengana                       1   \n",
      "96   97  10/03/20  6:00 PM    Jammu and Kashmir                       1   \n",
      "97   98  11/03/20  6:00 PM          Maharashtra                       2   \n",
      "98   99  11/03/20  6:00 PM                Delhi                       5   \n",
      "99  100  11/03/20  6:00 PM              Haryana                       0   \n",
      "\n",
      "   ConfirmedForeignNational  Cured  Deaths  Confirmed  \n",
      "0                         0      0       0          1  \n",
      "1                         0      0       0          1  \n",
      "2                         0      0       0          2  \n",
      "3                         0      0       0          3  \n",
      "4                         0      0       0          3  \n",
      "..                      ...    ...     ...        ...  \n",
      "95                        0      0       0          1  \n",
      "96                        0      0       0          1  \n",
      "97                        0      0       0          2  \n",
      "98                        0      0       0          5  \n",
      "99                       14      0       0         14  \n",
      "\n",
      "[100 rows x 9 columns]\n",
      "1222\n"
     ]
    }
   ],
   "source": [
    "import pandas as pd\n",
    "india_covid=pd.read_csv(\"covid_19_india.csv\")\n",
    "individual_covid=pd.read_csv(\"IndividualDetails.csv\")\n",
    "print(india_covid.head(100))\n",
    "print(len(india_covid))\n",
    "india_covid['Confirmed'] = india_covid['Confirmed'].astype(int)"
   ]
  },
  {
   "cell_type": "code",
   "execution_count": 11,
   "metadata": {},
   "outputs": [
    {
     "data": {
      "text/html": [
       "<div>\n",
       "<style scoped>\n",
       "    .dataframe tbody tr th:only-of-type {\n",
       "        vertical-align: middle;\n",
       "    }\n",
       "\n",
       "    .dataframe tbody tr th {\n",
       "        vertical-align: top;\n",
       "    }\n",
       "\n",
       "    .dataframe thead th {\n",
       "        text-align: right;\n",
       "    }\n",
       "</style>\n",
       "<table border=\"1\" class=\"dataframe\">\n",
       "  <thead>\n",
       "    <tr style=\"text-align: right;\">\n",
       "      <th></th>\n",
       "      <th>Date</th>\n",
       "      <th>Confirmed</th>\n",
       "      <th>Diff</th>\n",
       "    </tr>\n",
       "  </thead>\n",
       "  <tbody>\n",
       "    <tr>\n",
       "      <td>1058</td>\n",
       "      <td>18/04/20</td>\n",
       "      <td>14792</td>\n",
       "      <td>957</td>\n",
       "    </tr>\n",
       "    <tr>\n",
       "      <td>1091</td>\n",
       "      <td>19/04/20</td>\n",
       "      <td>16116</td>\n",
       "      <td>1324</td>\n",
       "    </tr>\n",
       "    <tr>\n",
       "      <td>1124</td>\n",
       "      <td>20/04/20</td>\n",
       "      <td>17656</td>\n",
       "      <td>1540</td>\n",
       "    </tr>\n",
       "    <tr>\n",
       "      <td>1157</td>\n",
       "      <td>21/04/20</td>\n",
       "      <td>18985</td>\n",
       "      <td>1329</td>\n",
       "    </tr>\n",
       "    <tr>\n",
       "      <td>1190</td>\n",
       "      <td>22/04/20</td>\n",
       "      <td>20471</td>\n",
       "      <td>1486</td>\n",
       "    </tr>\n",
       "  </tbody>\n",
       "</table>\n",
       "</div>"
      ],
      "text/plain": [
       "          Date  Confirmed  Diff\n",
       "1058  18/04/20      14792   957\n",
       "1091  19/04/20      16116  1324\n",
       "1124  20/04/20      17656  1540\n",
       "1157  21/04/20      18985  1329\n",
       "1190  22/04/20      20471  1486"
      ]
     },
     "execution_count": 11,
     "metadata": {},
     "output_type": "execute_result"
    }
   ],
   "source": [
    "df= pd.DataFrame([[\"Dummy\", 0,0]], columns=[\"Date\",\"Confirmed\",\"Diff\"])\n",
    "for i in range(0,len(india_covid)):\n",
    "    j=india_covid.Date[i]\n",
    "    allvalues=india_covid.Confirmed[india_covid.Date==j]\n",
    "    add=allvalues.sum()\n",
    "    df.loc[i]=[j,add,add]\n",
    "    if (i>0):\n",
    "        df.loc[i]=[j,add,df.Diff[i]-df.Confirmed[i-1]]\n",
    "clean_data=df.drop_duplicates(subset='Date',keep='first',inplace=False)\n",
    "clean_data.tail()"
   ]
  },
  {
   "cell_type": "code",
   "execution_count": 39,
   "metadata": {},
   "outputs": [
    {
     "name": "stdout",
     "output_type": "stream",
     "text": [
      "{'30/01/20': 1, '31/01/20': 0, '01/02/20': 1, '02/02/20': 1, '03/02/20': 0, '04/02/20': 0, '05/02/20': 0, '06/02/20': 0, '07/02/20': 0, '08/02/20': 0, '09/02/20': 0, '10/02/20': 0, '11/02/20': 0, '12/02/20': 0, '13/02/20': 0, '14/02/20': 0, '15/02/20': 0, '16/02/20': 0, '17/02/20': 0, '18/02/20': 0, '19/02/20': 0, '20/02/20': 0, '21/02/20': 0, '22/02/20': 0, '23/02/20': 0, '24/02/20': 0, '25/02/20': 0, '26/02/20': 0, '27/02/20': 0, '28/02/20': 0, '29/02/20': 0, '01/03/20': 0, '02/03/20': 2, '03/03/20': 1, '04/03/20': 22, '05/03/20': 2, '06/03/20': 1, '07/03/20': 3, '08/03/20': 5, '09/03/20': 7, '10/03/20': 12, '11/03/20': 2, '12/03/20': 14, '13/03/20': 7, '14/03/20': 3, '15/03/20': 26, '16/03/20': 4, '17/03/20': 23, '18/03/20': 14, '19/03/20': 22, '20/03/20': 50, '21/03/20': 60, '22/03/20': 77, '23/03/20': 73, '24/03/20': 86, '25/03/20': 87, '26/03/20': 88, '27/03/20': 30, '28/03/20': 185, '29/03/20': 115, '30/03/20': 227, '31/03/20': 146, '01/04/20': 437, '02/04/20': 235, '03/04/20': 478, '04/04/20': 525, '05/04/20': 505, '06/04/20': 704, '07/04/20': 508, '08/04/20': 485, '09/04/20': 591, '10/04/20': 896, '11/04/20': 768, '12/04/20': 918, '13/04/20': 905, '14/04/20': 1463, '15/04/20': 1118, '16/04/20': 826, '17/04/20': 1076, '18/04/20': 957, '19/04/20': 1324, '20/04/20': 1540, '21/04/20': 1329, '22/04/20': 1486}\n"
     ]
    }
   ],
   "source": [
    "import matplotlib.pyplot as plt\n",
    "a=dict(zip(clean_data.Date,clean_data.Diff))\n",
    "b=a.keys()\n",
    "c=a.values()\n"
   ]
  },
  {
   "cell_type": "code",
   "execution_count": 45,
   "metadata": {},
   "outputs": [
    {
     "data": {
      "image/png": "[encoded data removed]",
      "text/plain": [
       "<Figure size 1440x720 with 1 Axes>"
      ]
     },
     "metadata": {
      "needs_background": "light"
     },
     "output_type": "display_data"
    }
   ],
   "source": [
    "%matplotlib inline\n",
    "plt.rcParams['figure.figsize']=(20,10)\n",
    "plt.bar(b,c,width=0.5)\n",
    "plt.xticks(rotation=90)\n",
    "plt.title(\"NO OF COVID19_CASES PER DAY IN INDIA\")\n",
    "plt.grid()\n",
    "plt.show()"
   ]
  },
  {
   "cell_type": "code",
   "execution_count": 40,
   "metadata": {
    "scrolled": true
   },
   "outputs": [
    {
     "name": "stdout",
     "output_type": "stream",
     "text": [
      "Max no of cases observed on a single day 1540\n",
      "Max no of cases observed on date 20/04/20\n",
      "Total no of cases 20471\n"
     ]
    }
   ],
   "source": [
    "print(\"Max no of cases observed on a single day\" +\" \" + str(max(c)))\n",
    "\n",
    "for key,value in a.items():\n",
    "    if (max(c)==value):\n",
    "        d=key\n",
    "print(\"Max no of cases observed on date\" +\" \" +str(d))\n",
    "print(\"Total no of cases\" + \" \" + str(clean_data.Diff.sum()))"
   ]
  },
  {
   "cell_type": "code",
   "execution_count": null,
   "metadata": {},
   "outputs": [],
   "source": []
  },
  {
   "cell_type": "code",
   "execution_count": null,
   "metadata": {},
   "outputs": [],
   "source": []
  },
  {
   "cell_type": "code",
   "execution_count": null,
   "metadata": {},
   "outputs": [],
   "source": []
  },
  {
   "cell_type": "code",
   "execution_count": null,
   "metadata": {},
   "outputs": [],
   "source": []
  },
  {
   "cell_type": "code",
   "execution_count": null,
   "metadata": {},
   "outputs": [],
   "source": []
  },
  {
   "cell_type": "code",
   "execution_count": null,
   "metadata": {},
   "outputs": [],
   "source": []
  },
  {
   "cell_type": "code",
   "execution_count": null,
   "metadata": {},
   "outputs": [],
   "source": []
  },
  {
   "cell_type": "code",
   "execution_count": null,
   "metadata": {},
   "outputs": [],
   "source": []
  }
 ],
 "metadata": {
  "kernelspec": {
   "display_name": "Python 3",
   "language": "python",
   "name": "python3"
  }
 },
 "nbformat": 4,
 "nbformat_minor": 2
}
